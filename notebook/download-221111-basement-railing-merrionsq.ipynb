{
 "cells": [
  {
   "cell_type": "markdown",
   "id": "37477a6f",
   "metadata": {},
   "source": [
    "Download basement railing dataset\n",
    "---\n",
    "\n",
    "Download the basement railing dataset used in the paper. This dataset contains 157 Mapillary images captured in the Merrion Square area in Dublin, Ireland. The 4-part data partitioning was used for k-fold validation as described in the paper. "
   ]
  },
  {
   "cell_type": "markdown",
   "id": "4488c7aa",
   "metadata": {},
   "source": [
    "### Mapillary access token\n",
    "\n",
    "Place your Mapillary access token below. If you have not had one, you can sign up for free at https://www.mapillary.com/dashboard/developers (click on the Register application button and fill in your information). The token is private and should never be shared."
   ]
  },
  {
   "cell_type": "code",
   "execution_count": 17,
   "id": "5c74dd66",
   "metadata": {},
   "outputs": [],
   "source": [
    "# DO NOT SHARE YOUR TOKEN!!\n",
    "mapillary_access_token = 'YOUR_MAPILLARY_TOKEN'"
   ]
  },
  {
   "cell_type": "markdown",
   "id": "bd788088",
   "metadata": {},
   "source": [
    "### Import some necessary libraries \n"
   ]
  },
  {
   "cell_type": "code",
   "execution_count": 18,
   "id": "63385310",
   "metadata": {},
   "outputs": [],
   "source": [
    "import os\n",
    "import requests\n",
    "from mapillary_utils import *\n",
    "from tqdm import tqdm"
   ]
  },
  {
   "cell_type": "markdown",
   "id": "fa1261f5",
   "metadata": {},
   "source": [
    "### Download images "
   ]
  },
  {
   "cell_type": "code",
   "execution_count": 19,
   "id": "1059a197",
   "metadata": {
    "scrolled": true
   },
   "outputs": [
    {
     "name": "stderr",
     "output_type": "stream",
     "text": [
      "\r",
      "  0%|                                                          | 0/39 [00:00<?, ?it/s]"
     ]
    },
    {
     "name": "stdout",
     "output_type": "stream",
     "text": [
      "working on part-2\n"
     ]
    },
    {
     "name": "stderr",
     "output_type": "stream",
     "text": [
      "100%|█████████████████████████████████████████████████| 39/39 [00:21<00:00,  1.81it/s]\n",
      "  0%|                                                          | 0/39 [00:00<?, ?it/s]"
     ]
    },
    {
     "name": "stdout",
     "output_type": "stream",
     "text": [
      "working on part-4\n"
     ]
    },
    {
     "name": "stderr",
     "output_type": "stream",
     "text": [
      "100%|█████████████████████████████████████████████████| 39/39 [02:10<00:00,  3.36s/it]\n",
      "  0%|                                                          | 0/40 [00:00<?, ?it/s]"
     ]
    },
    {
     "name": "stdout",
     "output_type": "stream",
     "text": [
      "working on part-1\n"
     ]
    },
    {
     "name": "stderr",
     "output_type": "stream",
     "text": [
      "100%|█████████████████████████████████████████████████| 40/40 [00:43<00:00,  1.08s/it]\n",
      "  0%|                                                          | 0/39 [00:00<?, ?it/s]"
     ]
    },
    {
     "name": "stdout",
     "output_type": "stream",
     "text": [
      "working on part-3\n"
     ]
    },
    {
     "name": "stderr",
     "output_type": "stream",
     "text": [
      "100%|█████████████████████████████████████████████████| 39/39 [00:17<00:00,  2.21it/s]\n"
     ]
    }
   ],
   "source": [
    "# path to the data directory\n",
    "wdir = '../data/221111-basement-railing-merrionsq'\n",
    "dirs = [d for d in os.listdir(wdir) if os.path.isdir(os.path.join(wdir, d)) and d.startswith('part-')]\n",
    "\n",
    "# download the images - they come fresh from Mapillary!\n",
    "for d in dirs:\n",
    "    print('working on {}'.format(d))\n",
    "    labels_dir = os.path.join(os.path.join(wdir, d), 'labels')\n",
    "    images_dir = os.path.join(os.path.join(wdir, d), 'images')\n",
    "    \n",
    "    if not os.path.exists(images_dir):\n",
    "        os.mkdir(images_dir)\n",
    "    \n",
    "    label_files = [f for f in os.listdir(labels_dir) if f.endswith('.txt')]\n",
    "    for lf in tqdm(label_files):\n",
    "        img_id = lf[:lf.find('.txt')]\n",
    "        try:\n",
    "            download_image(images_dir, '', img_id, mapillary_access_token)\n",
    "        except:\n",
    "            print('failed to download {}'.format(img_id))\n",
    "            continue"
   ]
  },
  {
   "cell_type": "markdown",
   "id": "b1153d08",
   "metadata": {},
   "source": [
    "**Check the output of the previous cell for any image files couldn't be downloaded.**\n",
    "You can either retry or skip the files. Mapillary API occasionally refuses to connect without a clear reason. "
   ]
  },
  {
   "cell_type": "markdown",
   "id": "3089d3b1",
   "metadata": {},
   "source": [
    "The annotated images should be ready in this [directory](../data/221111-basement-railing-merrionsq\n",
    ") as you complete running all the cells above."
   ]
  }
 ],
 "metadata": {
  "kernelspec": {
   "display_name": "Python 3 (ipykernel)",
   "language": "python",
   "name": "python3"
  },
  "language_info": {
   "codemirror_mode": {
    "name": "ipython",
    "version": 3
   },
   "file_extension": ".py",
   "mimetype": "text/x-python",
   "name": "python",
   "nbconvert_exporter": "python",
   "pygments_lexer": "ipython3",
   "version": "3.10.6"
  }
 },
 "nbformat": 4,
 "nbformat_minor": 5
}

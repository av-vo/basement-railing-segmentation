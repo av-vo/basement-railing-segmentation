{
 "cells": [
  {
   "cell_type": "markdown",
   "id": "58e44c6e",
   "metadata": {},
   "source": [
    "Example Mapillary queries\n",
    "------\n",
    "\n",
    "This notebook walks you through some basic queries to search for Mapillary images within a bounding box and retrieve a specific image (at its original size) as well as the image's metadata."
   ]
  },
  {
   "cell_type": "markdown",
   "id": "3e2bce3d",
   "metadata": {},
   "source": [
    "### Mapillary access token\n",
    "\n",
    "Place your Mapillary access token below. If you have not had one, you can sign up for free at https://www.mapillary.com/dashboard/developers (click on the Register application button and fill in your information). The token is private and should never be shared."
   ]
  },
  {
   "cell_type": "code",
   "execution_count": 38,
   "id": "1acd1a13",
   "metadata": {},
   "outputs": [],
   "source": [
    "# DO NOT SHARE YOUR TOKEN!!\n",
    "mapillary_access_token = 'YOUR_MAPILLARY_TOKEN'"
   ]
  },
  {
   "cell_type": "markdown",
   "id": "c8ea062b",
   "metadata": {},
   "source": [
    "### Import some necessary libraries "
   ]
  },
  {
   "cell_type": "code",
   "execution_count": 12,
   "id": "6a979347",
   "metadata": {},
   "outputs": [],
   "source": [
    "import requests\n",
    "\n",
    "# to display images in notebook\n",
    "from IPython.display import Image\n",
    "from IPython.core.display import HTML "
   ]
  },
  {
   "cell_type": "markdown",
   "id": "23575f2a",
   "metadata": {},
   "source": [
    "### Search for images within a bounding box"
   ]
  },
  {
   "cell_type": "code",
   "execution_count": 24,
   "id": "bd148913",
   "metadata": {},
   "outputs": [
    {
     "name": "stdout",
     "output_type": "stream",
     "text": [
      "{'data': [{'id': '1168677063595779'}, {'id': '136369651769236'}, {'id': '284748926479684'}, {'id': '3894949630623305'}, {'id': '273535094506261'}, {'id': '596169055029295'}, {'id': '202843038673674'}, {'id': '1058118184768786'}, {'id': '106094725246293'}, {'id': '1152640285475167'}, {'id': '376182120398345'}, {'id': '453955046422182'}, {'id': '146529637796193'}, {'id': '263514512571023'}]}\n"
     ]
    }
   ],
   "source": [
    "# define your bounding box\n",
    "east = -6.2469170 # min longitude\n",
    "west = -6.2464965 # max longitude\n",
    "south = 53.3434647 # min latitude\n",
    "north = 53.3436772 # max latitude\n",
    "\n",
    "# form the request according to Mapillary API doc\n",
    "# request images inside a bounding box\n",
    "url = 'https://graph.mapillary.com/images?access_token={}&fields=id&bbox={},{},{},{}'.format(mapillary_access_token, east, south, west, north)\n",
    "\n",
    "# submit the request\n",
    "response = requests.get(url)\n",
    "data = response.json()\n",
    "\n",
    "# print the response - IDs of images within the bounding box you specified\n",
    "print(data)"
   ]
  },
  {
   "cell_type": "markdown",
   "id": "c67c5c52",
   "metadata": {},
   "source": [
    "### Request an image by image ID\n",
    "\n",
    "Let's get the URL of the first image returned in the previous search and display it."
   ]
  },
  {
   "cell_type": "code",
   "execution_count": 25,
   "id": "d51f4364",
   "metadata": {
    "scrolled": false
   },
   "outputs": [
    {
     "name": "stdout",
     "output_type": "stream",
     "text": [
      "{'thumb_original_url': 'https://scontent-dub4-1.xx.fbcdn.net/m1/v/t6/An8FP4kQIuZ5FuawLoZuyXlhw09Xh_tU41b96tKXT3nMm5g8cPstSV3GbF-0OKL4liuv7A-FVue0C4lHSw90cjGqkKnaQzGtxczpx8eOOiXFfso58zHKgfhQ1OuYFAwUCzz9JyP8RB_D_K4iE53nPg?ccb=10-5&oh=00_AfBdiQ2gJiEAz1fX4l0zrpPu8qigi2hYlOyqJoaNDhwiuQ&oe=63A5C77B&_nc_sid=122ab1', 'id': '1168677063595779'}\n"
     ]
    }
   ],
   "source": [
    "# id of the first image returned from the previous search\n",
    "img_id = data['data'][0]['id']\n",
    "\n",
    "# request url of an image at the original size given the image ID\n",
    "url = 'https://graph.mapillary.com/{}?access_token={}&fields=thumb_original_url'.format(img_id, mapillary_access_token)\n",
    "\n",
    "# submit the request\n",
    "response = requests.get(url)\n",
    "data = response.json()\n",
    "\n",
    "# print the response\n",
    "print(data)"
   ]
  },
  {
   "cell_type": "code",
   "execution_count": 28,
   "id": "401f6765",
   "metadata": {
    "scrolled": false
   },
   "outputs": [
    {
     "data": {
      "text/html": [
       "<img src=\"https://scontent-dub4-1.xx.fbcdn.net/m1/v/t6/An8FP4kQIuZ5FuawLoZuyXlhw09Xh_tU41b96tKXT3nMm5g8cPstSV3GbF-0OKL4liuv7A-FVue0C4lHSw90cjGqkKnaQzGtxczpx8eOOiXFfso58zHKgfhQ1OuYFAwUCzz9JyP8RB_D_K4iE53nPg?ccb=10-5&oh=00_AfBdiQ2gJiEAz1fX4l0zrpPu8qigi2hYlOyqJoaNDhwiuQ&oe=63A5C77B&_nc_sid=122ab1\"/>"
      ],
      "text/plain": [
       "<IPython.core.display.Image object>"
      ]
     },
     "execution_count": 28,
     "metadata": {},
     "output_type": "execute_result"
    }
   ],
   "source": [
    "# Display the image\n",
    "Image(url= data['thumb_original_url'])"
   ]
  },
  {
   "cell_type": "markdown",
   "id": "1653e817",
   "metadata": {},
   "source": [
    "### Request image metadata\n",
    "\n",
    "Let's retrieve the metadata of the image above."
   ]
  },
  {
   "cell_type": "code",
   "execution_count": 37,
   "id": "a3218eaa",
   "metadata": {},
   "outputs": [
    {
     "name": "stdout",
     "output_type": "stream",
     "text": [
      "{'id': '1168677063595779', 'geometry': {'type': 'Point', 'coordinates': [-6.2466093435924, 53.343632042079]}, 'computed_geometry': {'type': 'Point', 'coordinates': [-6.2466132940064, 53.343595633631]}, 'compass_angle': 289.45779418945, 'computed_compass_angle': 269.75039145135, 'altitude': 78.491422805247, 'computed_altitude': 0.13065703678876}\n"
     ]
    }
   ],
   "source": [
    "# use the previous image id, substitute this with any other image id you like\n",
    "img_id = img_id \n",
    "\n",
    "# request some metadata fields of the image given the image ID\n",
    "# there are many other fields you can request\n",
    "url = 'https://graph.mapillary.com/{}?access_token={}&fields=id,geometry,computed_geometry,compass_angle,computed_compass_angle,altitude,computed_altitude'.format(img_id, mapillary_access_token)\n",
    "\n",
    "# submit the request\n",
    "response = requests.get(url)\n",
    "data = response.json()\n",
    "\n",
    "# print the response\n",
    "print(data)"
   ]
  },
  {
   "cell_type": "markdown",
   "id": "f921bf0b",
   "metadata": {},
   "source": [
    "The metadata returned above include the original and corrected versions of the position, orientation, and altitude of the camera when capturing the image above."
   ]
  }
 ],
 "metadata": {
  "kernelspec": {
   "display_name": "Python 3 (ipykernel)",
   "language": "python",
   "name": "python3"
  },
  "language_info": {
   "codemirror_mode": {
    "name": "ipython",
    "version": 3
   },
   "file_extension": ".py",
   "mimetype": "text/x-python",
   "name": "python",
   "nbconvert_exporter": "python",
   "pygments_lexer": "ipython3",
   "version": "3.10.6"
  }
 },
 "nbformat": 4,
 "nbformat_minor": 5
}

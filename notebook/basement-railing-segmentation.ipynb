{
 "cells": [
  {
   "cell_type": "code",
   "execution_count": null,
   "id": "7ff8036e",
   "metadata": {},
   "outputs": [],
   "source": [
    "!git clone https://github.com/av-vo/basement-railing-segmentation\n",
    "%cd basement-railing-segmentation\n",
    "\n",
    "!git clone https://github.com/ultralytics/yolov5\n",
    "%cd yolov5\n",
    "%pip install -qr requirements.txt"
   ]
  },
  {
   "cell_type": "code",
   "execution_count": null,
   "id": "a8f30bee",
   "metadata": {},
   "outputs": [],
   "source": [
    "!curl https://dunnion.ucd.ie/~anhvu/data/permanent/221111-basement-railing-merrionsq-all-best.pt"
   ]
  },
  {
   "cell_type": "code",
   "execution_count": null,
   "id": "c34ec22f",
   "metadata": {},
   "outputs": [],
   "source": []
  }
 ],
 "metadata": {
  "kernelspec": {
   "display_name": "Python 3 (ipykernel)",
   "language": "python",
   "name": "python3"
  },
  "language_info": {
   "codemirror_mode": {
    "name": "ipython",
    "version": 3
   },
   "file_extension": ".py",
   "mimetype": "text/x-python",
   "name": "python",
   "nbconvert_exporter": "python",
   "pygments_lexer": "ipython3",
   "version": "3.10.6"
  }
 },
 "nbformat": 4,
 "nbformat_minor": 5
}
